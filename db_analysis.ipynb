{
 "cells": [
  {
   "cell_type": "code",
   "execution_count": 2,
   "metadata": {},
   "outputs": [],
   "source": [
    "import pandas as pd\n",
    "import numpy as np\n",
    "import matplotlib.pyplot as plt\n",
    "import seaborn as sns\n",
    "import plotly.express as pe\n",
    "import mysql.connector as connections\n",
    "from pandas_profiling import ProfileReport"
   ]
  },
  {
   "cell_type": "code",
   "execution_count": 3,
   "metadata": {},
   "outputs": [
    {
     "name": "stdout",
     "output_type": "stream",
     "text": [
      "2003: Can't connect to MySQL server on ':3306' (10061 No connection could be made because the target machine actively refused it)\n"
     ]
    }
   ],
   "source": [
    "try:\n",
    "    db_connect = connections.connect(host=\"\",database=\"\",username=\"\",passwd=\"\",use_pure=\"Ture\")\n",
    "    que = \"select * from \"\n",
    "\n",
    "    db_read = pd.read_sql(que,db_connect)\n",
    "    dbdf=pd.DataFrame(db_read)\n",
    "\n",
    "except Exception as e:\n",
    "    print(str(e))"
   ]
  },
  {
   "cell_type": "code",
   "execution_count": 4,
   "metadata": {},
   "outputs": [
    {
     "ename": "NameError",
     "evalue": "name 'dbdf' is not defined",
     "output_type": "error",
     "traceback": [
      "\u001b[1;31m---------------------------------------------------------------------------\u001b[0m",
      "\u001b[1;31mNameError\u001b[0m                                 Traceback (most recent call last)",
      "\u001b[1;32md:\\workspace\\sample-data-analysis-using-streamlitPython-\\db_analysis.ipynb Cell 3'\u001b[0m in \u001b[0;36m<cell line: 1>\u001b[1;34m()\u001b[0m\n\u001b[1;32m----> <a href='vscode-notebook-cell:/d%3A/workspace/sample-data-analysis-using-streamlitPython-/db_analysis.ipynb#ch0000002?line=0'>1</a>\u001b[0m dbdf\u001b[39m.\u001b[39mhead(\u001b[39m5\u001b[39m)\n",
      "\u001b[1;31mNameError\u001b[0m: name 'dbdf' is not defined"
     ]
    }
   ],
   "source": [
    "dbdf.head(5)"
   ]
  },
  {
   "cell_type": "code",
   "execution_count": 6,
   "metadata": {},
   "outputs": [
    {
     "ename": "NameError",
     "evalue": "name 'dbdf' is not defined",
     "output_type": "error",
     "traceback": [
      "\u001b[1;31m---------------------------------------------------------------------------\u001b[0m",
      "\u001b[1;31mNameError\u001b[0m                                 Traceback (most recent call last)",
      "\u001b[1;32md:\\workspace\\sample-data-analysis-using-streamlitPython-\\db_analysis.ipynb Cell 4'\u001b[0m in \u001b[0;36m<cell line: 1>\u001b[1;34m()\u001b[0m\n\u001b[1;32m----> <a href='vscode-notebook-cell:/d%3A/workspace/sample-data-analysis-using-streamlitPython-/db_analysis.ipynb#ch0000003?line=0'>1</a>\u001b[0m report \u001b[39m=\u001b[39m ProfileReport(dbdf,explorative\u001b[39m=\u001b[39m\u001b[39mTrue\u001b[39;00m)\n\u001b[0;32m      <a href='vscode-notebook-cell:/d%3A/workspace/sample-data-analysis-using-streamlitPython-/db_analysis.ipynb#ch0000003?line=1'>2</a>\u001b[0m report\u001b[39m.\u001b[39mto_file(\u001b[39m\"\u001b[39m\u001b[39mdb_analysis.html\u001b[39m\u001b[39m\"\u001b[39m)\n",
      "\u001b[1;31mNameError\u001b[0m: name 'dbdf' is not defined"
     ]
    }
   ],
   "source": [
    "report = ProfileReport(dbdf,explorative=True)\n",
    "report.to_file(\"db_analysis.html\")"
   ]
  },
  {
   "cell_type": "code",
   "execution_count": null,
   "metadata": {},
   "outputs": [],
   "source": []
  }
 ],
 "metadata": {
  "interpreter": {
   "hash": "3545f8ad782f0234b797d97d08c48e8b14d32a061e515f8573bbda1461568c2e"
  },
  "kernelspec": {
   "display_name": "Python 3.10.2 ('env': venv)",
   "language": "python",
   "name": "python3"
  },
  "language_info": {
   "codemirror_mode": {
    "name": "ipython",
    "version": 3
   },
   "file_extension": ".py",
   "mimetype": "text/x-python",
   "name": "python",
   "nbconvert_exporter": "python",
   "pygments_lexer": "ipython3",
   "version": "3.10.2"
  },
  "orig_nbformat": 4
 },
 "nbformat": 4,
 "nbformat_minor": 2
}
